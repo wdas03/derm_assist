{
 "cells": [
  {
   "cell_type": "code",
   "execution_count": null,
   "id": "e28ca254-20e9-4610-ab79-f3a9232ec983",
   "metadata": {
    "tags": []
   },
   "outputs": [],
   "source": [
    "import requests\n",
    "from io import BytesIO\n",
    "import zipfile\n",
    "import pandas as pd\n",
    "import os\n",
    "\n",
    "def download_and_extract_zip(zip_url, local_path):\n",
    "    # Create the local directory if it doesn't exist\n",
    "    os.makedirs(local_path, exist_ok=True)\n",
    "\n",
    "    # Download the zip file\n",
    "    response = requests.get(zip_url)\n",
    "    \n",
    "    # Check if the request was successful (status code 200)\n",
    "    if response.status_code == 200:\n",
    "        # Extract the contents of the zip file\n",
    "        with zipfile.ZipFile(BytesIO(response.content)) as zip_file:\n",
    "            zip_file.extractall(local_path)\n",
    "            \n",
    "            # Get the list of extracted files\n",
    "            extracted_files = zip_file.namelist()\n",
    "            \n",
    "            # Assume the first file is the CSV file (modify as needed)\n",
    "            csv_file = extracted_files[0]\n",
    "            \n",
    "            print(f\"Zip file downloaded and extracted to {local_path}\")\n",
    "            \n",
    "            return csv_file\n",
    "    else:\n",
    "        print(f\"Failed to download the zip file. Status code: {response.status_code}\")\n",
    "        return None\n",
    "\n",
    "def load_csv_to_dataframe(csv_path):\n",
    "    df = pd.read_csv(csv_path)\n",
    "    return df\n",
    "\n",
    "zip_file_url = 'https://skinfix-ml-bucket.s3.amazonaws.com/hmnist_28_28_RGB.csv.zip'\n",
    "\n",
    "# Specify the local directory for downloading and extracting\n",
    "local_directory = './downloaded_data'  # Change this path as needed\n",
    "\n",
    "# Download and extract the zip file, get the CSV file name\n",
    "csv_file_name = download_and_extract_zip(zip_file_url, local_directory)\n",
    "\n",
    "# if csv_file_name:\n",
    "# Construct the full path to the CSV file\n",
    "csv_file_path = os.path.join(local_directory, csv_file_name)\n",
    "\n",
    "# Load the CSV file into a Pandas DataFrame\n",
    "df = load_csv_to_dataframe(csv_file_path)"
   ]
  },
  {
   "cell_type": "code",
   "execution_count": 22,
   "id": "c555166b-a5a2-466d-9c66-58ceb048f7e8",
   "metadata": {
    "tags": []
   },
   "outputs": [],
   "source": [
    "from tensorflow.keras.layers import Flatten,Dense,Dropout,BatchNormalization,Conv2D,MaxPooling2D\n",
    "from tensorflow.keras.models import Sequential\n",
    "from tensorflow.keras.metrics import Recall\n",
    "from tensorflow.keras.optimizers import RMSprop\n",
    "\n",
    "model=Sequential()\n",
    "\n",
    "model.add(Conv2D(64,(2,2),input_shape=(28,28,3),activation='relu'))\n",
    "model.add(MaxPooling2D(pool_size=(2, 2)))\n",
    "model.add(BatchNormalization())\n",
    "\n",
    "model.add(Conv2D(128,(2,2),input_shape=(28,28,3),activation='relu'))\n",
    "model.add(MaxPooling2D(pool_size=(2, 2)))\n",
    "model.add(BatchNormalization())\n",
    "\n",
    "model.add(Dropout(0.3))\n",
    "\n",
    "model.add(Conv2D(256,(2,2),input_shape=(28,28,3),activation='relu'))\n",
    "model.add(MaxPooling2D(pool_size=(2, 2)))\n",
    "model.add(BatchNormalization())\n",
    "\n",
    "model.add(Dropout(0.3))\n",
    "\n",
    "model.add(Conv2D(128,(1,1),input_shape=(28,28,3),activation='relu'))\n",
    "model.add(MaxPooling2D(pool_size=(1, 1)))\n",
    "model.add(BatchNormalization())\n",
    "#\n",
    "model.add(Dropout(0.3))\n",
    "model.add(Conv2D(64,(1,1),input_shape=(28,28,3),activation='relu'))\n",
    "model.add(MaxPooling2D(pool_size=(1, 1)))\n",
    "model.add(BatchNormalization())\n",
    "\n",
    "#\n",
    "model.add(Dropout(0.3))\n",
    "\n",
    "model.add(Flatten())\n",
    "\n",
    "model.add(Dense(256, activation='relu'))\n",
    "model.add(Dropout(0.5))\n",
    "\n",
    "\n",
    "model.add(Dense(7, activation='softmax'))\n",
    "\n",
    "model.compile(optimizer='adam',loss='categorical_crossentropy',metrics=['accuracy'])"
   ]
  },
  {
   "cell_type": "code",
   "execution_count": 23,
   "id": "ac7ce526-bdde-465c-90c8-53bd29e2e949",
   "metadata": {
    "tags": []
   },
   "outputs": [
    {
     "name": "stdout",
     "output_type": "stream",
     "text": [
      "Model: \"sequential_3\"\n",
      "_________________________________________________________________\n",
      " Layer (type)                Output Shape              Param #   \n",
      "=================================================================\n",
      " conv2d_15 (Conv2D)          (None, 27, 27, 64)        832       \n",
      "                                                                 \n",
      " max_pooling2d_15 (MaxPooli  (None, 13, 13, 64)        0         \n",
      " ng2D)                                                           \n",
      "                                                                 \n",
      " batch_normalization_15 (Ba  (None, 13, 13, 64)        256       \n",
      " tchNormalization)                                               \n",
      "                                                                 \n",
      " conv2d_16 (Conv2D)          (None, 12, 12, 128)       32896     \n",
      "                                                                 \n",
      " max_pooling2d_16 (MaxPooli  (None, 6, 6, 128)         0         \n",
      " ng2D)                                                           \n",
      "                                                                 \n",
      " batch_normalization_16 (Ba  (None, 6, 6, 128)         512       \n",
      " tchNormalization)                                               \n",
      "                                                                 \n",
      " dropout_15 (Dropout)        (None, 6, 6, 128)         0         \n",
      "                                                                 \n",
      " conv2d_17 (Conv2D)          (None, 5, 5, 256)         131328    \n",
      "                                                                 \n",
      " max_pooling2d_17 (MaxPooli  (None, 2, 2, 256)         0         \n",
      " ng2D)                                                           \n",
      "                                                                 \n",
      " batch_normalization_17 (Ba  (None, 2, 2, 256)         1024      \n",
      " tchNormalization)                                               \n",
      "                                                                 \n",
      " dropout_16 (Dropout)        (None, 2, 2, 256)         0         \n",
      "                                                                 \n",
      " conv2d_18 (Conv2D)          (None, 2, 2, 128)         32896     \n",
      "                                                                 \n",
      " max_pooling2d_18 (MaxPooli  (None, 2, 2, 128)         0         \n",
      " ng2D)                                                           \n",
      "                                                                 \n",
      " batch_normalization_18 (Ba  (None, 2, 2, 128)         512       \n",
      " tchNormalization)                                               \n",
      "                                                                 \n",
      " dropout_17 (Dropout)        (None, 2, 2, 128)         0         \n",
      "                                                                 \n",
      " conv2d_19 (Conv2D)          (None, 2, 2, 64)          8256      \n",
      "                                                                 \n",
      " max_pooling2d_19 (MaxPooli  (None, 2, 2, 64)          0         \n",
      " ng2D)                                                           \n",
      "                                                                 \n",
      " batch_normalization_19 (Ba  (None, 2, 2, 64)          256       \n",
      " tchNormalization)                                               \n",
      "                                                                 \n",
      " dropout_18 (Dropout)        (None, 2, 2, 64)          0         \n",
      "                                                                 \n",
      " flatten_3 (Flatten)         (None, 256)               0         \n",
      "                                                                 \n",
      " dense_6 (Dense)             (None, 256)               65792     \n",
      "                                                                 \n",
      " dropout_19 (Dropout)        (None, 256)               0         \n",
      "                                                                 \n",
      " dense_7 (Dense)             (None, 7)                 1799      \n",
      "                                                                 \n",
      "=================================================================\n",
      "Total params: 276359 (1.05 MB)\n",
      "Trainable params: 275079 (1.05 MB)\n",
      "Non-trainable params: 1280 (5.00 KB)\n",
      "_________________________________________________________________\n"
     ]
    }
   ],
   "source": [
    "model.summary()"
   ]
  },
  {
   "cell_type": "code",
   "execution_count": 24,
   "id": "c41477b1-3c71-48ad-a3b8-3408d4363993",
   "metadata": {
    "tags": []
   },
   "outputs": [],
   "source": [
    "import pandas as pd\n",
    "from tensorflow.keras.utils import to_categorical\n",
    "\n",
    "df = pd.read_csv('downloaded_data/hmnist_28_28_RGB.csv')\n",
    "# df=pd.read_csv(os.path.join(base,'hmnist_28_28_RGB.csv'))\n",
    "x=df.drop('label',axis=1)\n",
    "y=df['label']\n",
    "x=x.to_numpy()\n",
    "x=x/255\n",
    "y=to_categorical(y)"
   ]
  },
  {
   "cell_type": "code",
   "execution_count": 52,
   "id": "3668dd49-6537-454c-9831-eebfdf5c62bb",
   "metadata": {
    "tags": []
   },
   "outputs": [],
   "source": [
    "x=x.reshape(-1,28,28,3)\n",
    "\n",
    "from sklearn.model_selection import train_test_split\n",
    "\n",
    "X_train, X_test, y_train, y_test = train_test_split(x, y, test_size=0.2, random_state=42)"
   ]
  },
  {
   "cell_type": "code",
   "execution_count": 53,
   "id": "fe3b2177-e547-49fd-934f-0185e4567981",
   "metadata": {
    "tags": []
   },
   "outputs": [
    {
     "data": {
      "text/plain": [
       "((8012, 28, 28, 3), (2003, 28, 28, 3), (8012, 7), (2003, 7))"
      ]
     },
     "execution_count": 53,
     "metadata": {},
     "output_type": "execute_result"
    }
   ],
   "source": [
    "X_train.shape, X_test.shape, y_train.shape, y_test.shape"
   ]
  },
  {
   "cell_type": "code",
   "execution_count": 54,
   "id": "5b864b9a-9475-4f35-bb53-082febf84250",
   "metadata": {
    "tags": []
   },
   "outputs": [],
   "source": [
    "X_train, X_val, y_train, y_val = train_test_split(X_train, y_train, test_size=0.1, random_state=42)"
   ]
  },
  {
   "cell_type": "code",
   "execution_count": 55,
   "id": "d7ec94f3-f6a9-47d1-a25f-a611f45fa5ca",
   "metadata": {
    "tags": []
   },
   "outputs": [
    {
     "name": "stdout",
     "output_type": "stream",
     "text": [
      "Epoch 1/50\n",
      "57/57 [==============================] - 14s 242ms/step - loss: 0.8841 - accuracy: 0.6713 - val_loss: 2.6250 - val_accuracy: 0.0287\n",
      "Epoch 2/50\n",
      "57/57 [==============================] - 16s 278ms/step - loss: 0.8127 - accuracy: 0.6854 - val_loss: 2.8725 - val_accuracy: 0.0287\n",
      "Epoch 3/50\n",
      "57/57 [==============================] - 14s 242ms/step - loss: 0.7622 - accuracy: 0.7035 - val_loss: 3.2138 - val_accuracy: 0.0287\n",
      "Epoch 4/50\n",
      "57/57 [==============================] - 14s 238ms/step - loss: 0.7353 - accuracy: 0.7114 - val_loss: 3.3066 - val_accuracy: 0.0374\n",
      "Epoch 5/50\n",
      "57/57 [==============================] - 14s 241ms/step - loss: 0.7185 - accuracy: 0.7141 - val_loss: 2.9574 - val_accuracy: 0.1097\n",
      "Epoch 6/50\n",
      "57/57 [==============================] - 14s 237ms/step - loss: 0.6928 - accuracy: 0.7244 - val_loss: 2.7884 - val_accuracy: 0.0948\n",
      "Epoch 7/50\n",
      "57/57 [==============================] - 13s 234ms/step - loss: 0.6678 - accuracy: 0.7262 - val_loss: 2.4712 - val_accuracy: 0.1160\n",
      "Epoch 8/50\n",
      "57/57 [==============================] - 13s 229ms/step - loss: 0.6597 - accuracy: 0.7352 - val_loss: 2.2204 - val_accuracy: 0.1534\n",
      "Epoch 9/50\n",
      "57/57 [==============================] - 13s 231ms/step - loss: 0.6472 - accuracy: 0.7397 - val_loss: 1.1301 - val_accuracy: 0.5274\n",
      "Epoch 10/50\n",
      "57/57 [==============================] - 14s 242ms/step - loss: 0.6441 - accuracy: 0.7423 - val_loss: 1.0518 - val_accuracy: 0.6122\n",
      "Epoch 11/50\n",
      "57/57 [==============================] - 13s 233ms/step - loss: 0.6264 - accuracy: 0.7519 - val_loss: 0.9956 - val_accuracy: 0.6197\n",
      "Epoch 12/50\n",
      "57/57 [==============================] - 13s 228ms/step - loss: 0.6147 - accuracy: 0.7526 - val_loss: 1.5132 - val_accuracy: 0.4115\n",
      "Epoch 13/50\n",
      "57/57 [==============================] - 13s 235ms/step - loss: 0.6152 - accuracy: 0.7519 - val_loss: 0.7400 - val_accuracy: 0.7257\n",
      "Epoch 14/50\n",
      "57/57 [==============================] - 14s 245ms/step - loss: 0.6033 - accuracy: 0.7595 - val_loss: 0.7451 - val_accuracy: 0.7282\n",
      "Epoch 15/50\n",
      "57/57 [==============================] - 18s 308ms/step - loss: 0.6003 - accuracy: 0.7564 - val_loss: 0.6807 - val_accuracy: 0.7606\n",
      "Epoch 16/50\n",
      "57/57 [==============================] - 13s 229ms/step - loss: 0.5865 - accuracy: 0.7566 - val_loss: 0.7605 - val_accuracy: 0.7369\n",
      "Epoch 17/50\n",
      "57/57 [==============================] - 12s 218ms/step - loss: 0.5798 - accuracy: 0.7628 - val_loss: 0.8599 - val_accuracy: 0.6397\n",
      "Epoch 18/50\n",
      "57/57 [==============================] - 14s 240ms/step - loss: 0.5895 - accuracy: 0.7588 - val_loss: 0.7391 - val_accuracy: 0.7344\n",
      "Epoch 19/50\n",
      "57/57 [==============================] - 13s 228ms/step - loss: 0.5727 - accuracy: 0.7649 - val_loss: 0.8327 - val_accuracy: 0.7107\n",
      "Epoch 20/50\n",
      "57/57 [==============================] - 13s 224ms/step - loss: 0.5706 - accuracy: 0.7684 - val_loss: 0.9205 - val_accuracy: 0.6534\n",
      "Epoch 21/50\n",
      "57/57 [==============================] - 14s 239ms/step - loss: 0.5606 - accuracy: 0.7718 - val_loss: 0.7028 - val_accuracy: 0.7444\n",
      "Epoch 22/50\n",
      "57/57 [==============================] - 14s 247ms/step - loss: 0.5536 - accuracy: 0.7736 - val_loss: 0.7919 - val_accuracy: 0.7456\n",
      "Epoch 23/50\n",
      "57/57 [==============================] - 13s 226ms/step - loss: 0.5552 - accuracy: 0.7764 - val_loss: 0.7260 - val_accuracy: 0.7481\n",
      "Epoch 24/50\n",
      "57/57 [==============================] - 13s 229ms/step - loss: 0.5515 - accuracy: 0.7750 - val_loss: 1.1705 - val_accuracy: 0.5411\n",
      "Epoch 25/50\n",
      "57/57 [==============================] - 13s 227ms/step - loss: 0.5447 - accuracy: 0.7809 - val_loss: 0.9814 - val_accuracy: 0.7070\n",
      "Epoch 26/50\n",
      "57/57 [==============================] - 14s 244ms/step - loss: 0.5392 - accuracy: 0.7717 - val_loss: 0.8018 - val_accuracy: 0.7007\n",
      "Epoch 27/50\n",
      "57/57 [==============================] - 14s 245ms/step - loss: 0.5220 - accuracy: 0.7835 - val_loss: 0.7391 - val_accuracy: 0.7419\n",
      "Epoch 28/50\n",
      "57/57 [==============================] - 17s 306ms/step - loss: 0.5195 - accuracy: 0.7836 - val_loss: 0.6702 - val_accuracy: 0.7731\n",
      "Epoch 29/50\n",
      "57/57 [==============================] - 13s 228ms/step - loss: 0.5250 - accuracy: 0.7849 - val_loss: 0.8500 - val_accuracy: 0.7232\n",
      "Epoch 30/50\n",
      "57/57 [==============================] - 13s 231ms/step - loss: 0.5093 - accuracy: 0.7933 - val_loss: 0.7573 - val_accuracy: 0.7369\n",
      "Epoch 31/50\n",
      "57/57 [==============================] - 13s 226ms/step - loss: 0.5120 - accuracy: 0.7926 - val_loss: 0.7465 - val_accuracy: 0.7157\n",
      "Epoch 32/50\n",
      "57/57 [==============================] - 14s 237ms/step - loss: 0.4927 - accuracy: 0.7969 - val_loss: 0.7493 - val_accuracy: 0.7406\n",
      "Epoch 33/50\n",
      "57/57 [==============================] - 13s 226ms/step - loss: 0.4991 - accuracy: 0.7982 - val_loss: 1.0569 - val_accuracy: 0.6571\n",
      "Epoch 34/50\n",
      "57/57 [==============================] - 12s 218ms/step - loss: 0.4937 - accuracy: 0.7969 - val_loss: 0.7150 - val_accuracy: 0.7444\n",
      "Epoch 35/50\n",
      "57/57 [==============================] - 13s 229ms/step - loss: 0.4803 - accuracy: 0.8007 - val_loss: 0.9192 - val_accuracy: 0.7232\n",
      "Epoch 36/50\n",
      "57/57 [==============================] - 14s 251ms/step - loss: 0.4846 - accuracy: 0.8022 - val_loss: 1.0682 - val_accuracy: 0.7269\n",
      "Epoch 37/50\n",
      "57/57 [==============================] - 13s 234ms/step - loss: 0.4736 - accuracy: 0.8060 - val_loss: 0.7963 - val_accuracy: 0.7419\n",
      "Epoch 38/50\n",
      "57/57 [==============================] - 14s 239ms/step - loss: 0.4739 - accuracy: 0.8035 - val_loss: 0.7529 - val_accuracy: 0.7369\n",
      "Epoch 39/50\n",
      "57/57 [==============================] - 14s 239ms/step - loss: 0.4629 - accuracy: 0.8080 - val_loss: 0.7687 - val_accuracy: 0.7544\n",
      "Epoch 40/50\n",
      "57/57 [==============================] - 14s 241ms/step - loss: 0.4607 - accuracy: 0.8114 - val_loss: 0.7567 - val_accuracy: 0.7643\n",
      "Epoch 41/50\n",
      "57/57 [==============================] - 16s 276ms/step - loss: 0.4535 - accuracy: 0.8107 - val_loss: 0.8132 - val_accuracy: 0.7195\n",
      "Epoch 42/50\n",
      "57/57 [==============================] - 13s 228ms/step - loss: 0.4382 - accuracy: 0.8129 - val_loss: 0.7058 - val_accuracy: 0.7444\n",
      "Epoch 43/50\n",
      "57/57 [==============================] - 13s 228ms/step - loss: 0.4477 - accuracy: 0.8137 - val_loss: 1.2551 - val_accuracy: 0.6995\n",
      "Epoch 44/50\n",
      "57/57 [==============================] - 13s 236ms/step - loss: 0.4469 - accuracy: 0.8123 - val_loss: 0.9287 - val_accuracy: 0.6621\n",
      "Epoch 45/50\n",
      "57/57 [==============================] - 14s 240ms/step - loss: 0.4369 - accuracy: 0.8153 - val_loss: 0.7906 - val_accuracy: 0.7394\n",
      "Epoch 46/50\n",
      "57/57 [==============================] - 13s 233ms/step - loss: 0.4291 - accuracy: 0.8198 - val_loss: 1.1410 - val_accuracy: 0.6247\n",
      "Epoch 47/50\n",
      "57/57 [==============================] - 13s 226ms/step - loss: 0.4191 - accuracy: 0.8240 - val_loss: 0.7349 - val_accuracy: 0.7544\n",
      "Epoch 48/50\n",
      "57/57 [==============================] - 13s 233ms/step - loss: 0.4193 - accuracy: 0.8232 - val_loss: 0.8011 - val_accuracy: 0.7506\n",
      "Epoch 49/50\n",
      "57/57 [==============================] - 14s 245ms/step - loss: 0.4099 - accuracy: 0.8262 - val_loss: 0.7908 - val_accuracy: 0.7556\n",
      "Epoch 50/50\n",
      "57/57 [==============================] - 13s 233ms/step - loss: 0.4037 - accuracy: 0.8304 - val_loss: 0.7462 - val_accuracy: 0.7656\n"
     ]
    },
    {
     "data": {
      "text/plain": [
       "<keras.src.callbacks.History at 0x7f207983ba30>"
      ]
     },
     "execution_count": 55,
     "metadata": {},
     "output_type": "execute_result"
    }
   ],
   "source": [
    "#Training our CNN\n",
    "class_weights = {0:1,1:0.5,2:1,3:1,4:1,5:1,6:1}\n",
    "model.fit(X_train, y_train, epochs=50, batch_size=128, class_weight=class_weights, validation_data=(X_val, y_val))"
   ]
  },
  {
   "cell_type": "code",
   "execution_count": 56,
   "id": "fb081965-2543-400e-915e-a11821a3063e",
   "metadata": {
    "tags": []
   },
   "outputs": [
    {
     "name": "stdout",
     "output_type": "stream",
     "text": [
      "63/63 [==============================] - 1s 14ms/step - loss: 0.7492 - accuracy: 0.7464\n",
      "26/26 [==============================] - 0s 12ms/step - loss: 0.7462 - accuracy: 0.7656\n",
      "Validation: accuracy = 0.765586  ;  loss_v = 0.746213\n",
      "Test: accuracy = 0.746380  ;  loss = 0.749248\n"
     ]
    }
   ],
   "source": [
    "loss, accuracy = model.evaluate(X_test, y_test, verbose=1)\n",
    "loss_v, accuracy_v = model.evaluate(X_val, y_val, verbose=1)\n",
    "print(\"Validation: accuracy = %f  ;  loss_v = %f\" % (accuracy_v, loss_v))\n",
    "print(\"Test: accuracy = %f  ;  loss = %f\" % (accuracy, loss))"
   ]
  },
  {
   "cell_type": "code",
   "execution_count": 28,
   "id": "0229cd0e-a27f-48c2-8bdc-9eb04ec841e3",
   "metadata": {
    "tags": []
   },
   "outputs": [
    {
     "name": "stdout",
     "output_type": "stream",
     "text": [
      "1/1 [==============================] - 0s 158ms/step\n"
     ]
    },
    {
     "data": {
      "text/plain": [
       "array([[0.22128604, 0.19976686, 0.22389811, 0.09912382, 0.13297969,\n",
       "        0.06667622, 0.05626924],\n",
       "       [0.21781537, 0.20111354, 0.22002752, 0.09848139, 0.13805744,\n",
       "        0.06696871, 0.05753605]], dtype=float32)"
      ]
     },
     "execution_count": 28,
     "metadata": {},
     "output_type": "execute_result"
    }
   ],
   "source": [
    "model.predict(X_val[:2])"
   ]
  },
  {
   "cell_type": "code",
   "execution_count": 57,
   "id": "36032f33-47a8-40be-a489-2b66b84153a8",
   "metadata": {
    "tags": []
   },
   "outputs": [
    {
     "name": "stdout",
     "output_type": "stream",
     "text": [
      "INFO:tensorflow:Assets written to: export/Servo/1/assets\n"
     ]
    },
    {
     "name": "stderr",
     "output_type": "stream",
     "text": [
      "INFO:tensorflow:Assets written to: export/Servo/1/assets\n"
     ]
    }
   ],
   "source": [
    "!rm -rf export\n",
    "\n",
    "model.save('export/Servo/1', save_format='tf')"
   ]
  },
  {
   "cell_type": "code",
   "execution_count": 58,
   "id": "83b57279-fbb0-4ade-8860-fdebc025d588",
   "metadata": {
    "tags": []
   },
   "outputs": [],
   "source": [
    "!rm model.tar.gz\n",
    "\n",
    "import tarfile\n",
    "with tarfile.open('model.tar.gz', mode='w:gz') as archive:\n",
    "    archive.add('export', recursive=True)"
   ]
  },
  {
   "cell_type": "code",
   "execution_count": 59,
   "id": "8e23b8eb-73c9-4b55-9397-efea2a1004e4",
   "metadata": {
    "tags": []
   },
   "outputs": [
    {
     "name": "stdout",
     "output_type": "stream",
     "text": [
      "sagemaker.config INFO - Not applying SDK defaults from location: /etc/xdg/sagemaker/config.yaml\n",
      "sagemaker.config INFO - Not applying SDK defaults from location: /home/ec2-user/.config/sagemaker/config.yaml\n"
     ]
    }
   ],
   "source": [
    "import sagemaker\n",
    "\n",
    "sagemaker_session = sagemaker.Session()\n",
    "inputs = sagemaker_session.upload_data(path='model.tar.gz', key_prefix='skinfix-model-v10')"
   ]
  },
  {
   "cell_type": "code",
   "execution_count": 15,
   "id": "5fa24579-3b2a-4b57-bbb5-cca141cc976c",
   "metadata": {
    "tags": []
   },
   "outputs": [],
   "source": [
    "!touch train.py"
   ]
  },
  {
   "cell_type": "code",
   "execution_count": 60,
   "id": "86893e42-b8a3-4609-a651-e33aeb7b8ce0",
   "metadata": {
    "tags": []
   },
   "outputs": [
    {
     "name": "stdout",
     "output_type": "stream",
     "text": [
      "sagemaker.config INFO - Not applying SDK defaults from location: /etc/xdg/sagemaker/config.yaml\n",
      "sagemaker.config INFO - Not applying SDK defaults from location: /home/ec2-user/.config/sagemaker/config.yaml\n",
      "sagemaker.config INFO - Not applying SDK defaults from location: /etc/xdg/sagemaker/config.yaml\n",
      "sagemaker.config INFO - Not applying SDK defaults from location: /home/ec2-user/.config/sagemaker/config.yaml\n"
     ]
    }
   ],
   "source": [
    "import boto3, re\n",
    "from sagemaker import get_execution_role\n",
    "\n",
    "# the (default) IAM role you created when creating this notebook\n",
    "role = get_execution_role()\n",
    "\n",
    "# Create a Sagemaker model (see AWS console>SageMaker>Models)\n",
    "from sagemaker.tensorflow.model import TensorFlowModel\n",
    "sagemaker_model = TensorFlowModel(model_data = 's3://' + sagemaker_session.default_bucket() + '/skinfix-model-v10/model.tar.gz',\n",
    "                                  role = role,\n",
    "                                  framework_version = '2.13',\n",
    "                                  entry_point = 'train.py')"
   ]
  },
  {
   "cell_type": "code",
   "execution_count": 61,
   "id": "eea79d9b-a781-4afc-941b-1ee95085bd1e",
   "metadata": {
    "tags": []
   },
   "outputs": [
    {
     "name": "stdout",
     "output_type": "stream",
     "text": [
      "sagemaker.config INFO - Not applying SDK defaults from location: /etc/xdg/sagemaker/config.yaml\n",
      "sagemaker.config INFO - Not applying SDK defaults from location: /home/ec2-user/.config/sagemaker/config.yaml\n",
      "-----!"
     ]
    }
   ],
   "source": [
    "# Deploy a SageMaker to an endpoint\n",
    "predictor = sagemaker_model.deploy(initial_instance_count=1,\n",
    "                                   instance_type='ml.t2.medium',\n",
    "                                   endpoint_name='skinfix-ml-endpoint-v10')"
   ]
  },
  {
   "cell_type": "code",
   "execution_count": 62,
   "id": "089579c3-1734-448b-b7a4-153fde00c090",
   "metadata": {
    "tags": []
   },
   "outputs": [
    {
     "name": "stdout",
     "output_type": "stream",
     "text": [
      "sagemaker.config INFO - Not applying SDK defaults from location: /etc/xdg/sagemaker/config.yaml\n",
      "sagemaker.config INFO - Not applying SDK defaults from location: /home/ec2-user/.config/sagemaker/config.yaml\n"
     ]
    }
   ],
   "source": [
    "# Create a predictor which uses this new endpoint\n",
    "import numpy as np\n",
    "\n",
    "import sagemaker\n",
    "from sagemaker.tensorflow.model import TensorFlowModel\n",
    "\n",
    "sagemaker_session = sagemaker.Session()\n",
    "\n",
    "endpoint = 'skinfix-ml-endpoint-v10'\n",
    "\n",
    "predictor=sagemaker.tensorflow.model.TensorFlowPredictor(endpoint, sagemaker_session)"
   ]
  },
  {
   "cell_type": "code",
   "execution_count": 63,
   "id": "754bf2c1-2329-4aea-8d28-377ae122f446",
   "metadata": {
    "tags": []
   },
   "outputs": [
    {
     "data": {
      "text/plain": [
       "[[2.57025873e-10,\n",
       "  1.14217976e-07,\n",
       "  6.27406553e-06,\n",
       "  1.92746242e-07,\n",
       "  0.999984622,\n",
       "  1.9768504e-06,\n",
       "  6.8022614e-06],\n",
       " [0.745594084,\n",
       "  0.185829148,\n",
       "  0.0062421062,\n",
       "  0.0518042631,\n",
       "  0.00857963134,\n",
       "  3.21644438e-05,\n",
       "  0.00191857188]]"
      ]
     },
     "execution_count": 63,
     "metadata": {},
     "output_type": "execute_result"
    }
   ],
   "source": [
    "# .predict send the data to our endpoint\n",
    "predictor.predict(X_val[:2])['predictions']"
   ]
  },
  {
   "cell_type": "code",
   "execution_count": 64,
   "id": "4d3809b6-1a28-458f-96e0-af025fb731f2",
   "metadata": {
    "tags": []
   },
   "outputs": [
    {
     "name": "stdout",
     "output_type": "stream",
     "text": [
      "1/1 [==============================] - 0s 27ms/step\n"
     ]
    },
    {
     "data": {
      "text/plain": [
       "array([[2.57025873e-10, 1.14217976e-07, 6.27407144e-06, 1.92746612e-07,\n",
       "        9.99984622e-01, 1.97685222e-06, 6.80226776e-06],\n",
       "       [7.45594203e-01, 1.85829103e-01, 6.24209829e-03, 5.18042184e-02,\n",
       "        8.57962482e-03, 3.21643893e-05, 1.91856944e-03]], dtype=float32)"
      ]
     },
     "execution_count": 64,
     "metadata": {},
     "output_type": "execute_result"
    }
   ],
   "source": [
    "model.predict(X_val[:2])"
   ]
  },
  {
   "cell_type": "code",
   "execution_count": 65,
   "id": "743a90b4-9cad-4428-b635-8418bedfcaf0",
   "metadata": {
    "tags": []
   },
   "outputs": [
    {
     "name": "stdout",
     "output_type": "stream",
     "text": [
      "1/1 [==============================] - 0s 20ms/step\n"
     ]
    },
    {
     "data": {
      "text/plain": [
       "array([[1.92596236e-19, 4.77975941e-16, 5.90838354e-12, 3.69560324e-13,\n",
       "        1.64790404e-12, 1.81792199e-12, 6.36239579e-12],\n",
       "       [1.19472137e-07, 4.50069885e-08, 7.91325207e-09, 4.46587521e-08,\n",
       "        6.52322468e-09, 5.45324362e-11, 2.43997789e-09]])"
      ]
     },
     "execution_count": 65,
     "metadata": {},
     "output_type": "execute_result"
    }
   ],
   "source": [
    "differences = np.abs(predictor.predict(X_val[:2])['predictions'] - model.predict(X_val[:2]))\n",
    "differences"
   ]
  },
  {
   "cell_type": "code",
   "execution_count": 66,
   "id": "d9523703-911e-453b-81fb-5c357d4f2c46",
   "metadata": {
    "tags": []
   },
   "outputs": [
    {
     "data": {
      "text/plain": [
       "True"
      ]
     },
     "execution_count": 66,
     "metadata": {},
     "output_type": "execute_result"
    }
   ],
   "source": [
    "np.allclose(differences, np.zeros_like(differences), atol=1e-6)"
   ]
  },
  {
   "cell_type": "code",
   "execution_count": 51,
   "id": "231628e2-3ca5-4891-835d-bf56c84b4899",
   "metadata": {
    "tags": []
   },
   "outputs": [],
   "source": [
    "import json\n",
    "\n",
    "json.dump(X_val[:2].tolist(), open('test_data.txt', 'w+'),)"
   ]
  },
  {
   "cell_type": "code",
   "execution_count": null,
   "id": "bcc3e88b-89ec-4aec-9236-49330cff8665",
   "metadata": {},
   "outputs": [],
   "source": []
  }
 ],
 "metadata": {
  "kernelspec": {
   "display_name": "conda_tensorflow2_p310",
   "language": "python",
   "name": "conda_tensorflow2_p310"
  },
  "language_info": {
   "codemirror_mode": {
    "name": "ipython",
    "version": 3
   },
   "file_extension": ".py",
   "mimetype": "text/x-python",
   "name": "python",
   "nbconvert_exporter": "python",
   "pygments_lexer": "ipython3",
   "version": "3.10.13"
  }
 },
 "nbformat": 4,
 "nbformat_minor": 5
}
