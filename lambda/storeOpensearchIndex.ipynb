{
 "cells": [
  {
   "cell_type": "code",
   "execution_count": 2,
   "metadata": {},
   "outputs": [
    {
     "name": "stdout",
     "output_type": "stream",
     "text": [
      "Bucket Name: cf-templates-1g550bcpoyriy-us-east-1\n",
      "Bucket Name: cf-templates-1g550bcpoyriy-us-east-2\n",
      "Bucket Name: dinnerconcierge-jg4376\n",
      "Bucket Name: photo-album-assets\n",
      "Bucket Name: photos-frontend-jg4376\n",
      "Bucket Name: photos-jg4376\n",
      "Bucket Name: sagemaker-studio-561013435358-e1wss47m5oa\n",
      "Bucket Name: sagemaker-studio-561013435358-ezvq1b3ry\n",
      "Bucket Name: sagemaker-us-east-1-561013435358\n",
      "Bucket Name: skinfix-frontend\n",
      "Bucket Name: skinfix-ml-bucket\n",
      "Bucket Name: skinfix-patient-photos\n",
      "Bucket Name: skinfix-train-data\n",
      "Bucket Name: voice-files-all\n"
     ]
    }
   ],
   "source": [
    "import os\n",
    "import boto3\n",
    "\n",
    "# Set the AWS profile\n",
    "os.environ['AWS_PROFILE'] = 'ccbd-joseph'\n",
    "\n",
    "# Now you can use boto3 to interact with AWS services\n",
    "# For example, creating an S3 client\n",
    "s3 = boto3.client('s3')\n",
    "\n",
    "# List buckets\n",
    "response = s3.list_buckets()\n",
    "for bucket in response['Buckets']:\n",
    "    print(f'Bucket Name: {bucket[\"Name\"]}')\n"
   ]
  },
  {
   "cell_type": "code",
   "execution_count": null,
   "metadata": {},
   "outputs": [],
   "source": [
    "from opensearchpy import OpenSearch, RequestsHttpConnection, helpers\n",
    "from requests.auth import HTTPBasicAuth\n",
    "\n",
    "# Master user credentials\n",
    "master_username = 'ccbdgroup'\n",
    "master_password = 'CCBDGroup1!'\n",
    "\n",
    "# OpenSearch client initialization with master user authentication\n",
    "opensearch = OpenSearch(\n",
    "    hosts=[{'host': 'search-doctors-domain-jhukjvozwcmrtu4a3ngi6umdc4.us-east-1.es.amazonaws.com', 'port': 443}],\n",
    "    http_auth=HTTPBasicAuth(master_username, master_password),\n",
    "    use_ssl=True,\n",
    "    verify_certs=True,\n",
    "    connection_class=RequestsHttpConnection,\n",
    "    timeout=60  # Increase timeout to 30 seconds\n",
    ")"
   ]
  },
  {
   "cell_type": "code",
   "execution_count": 13,
   "metadata": {},
   "outputs": [
    {
     "data": {
      "text/plain": [
       "(213, [])"
      ]
     },
     "execution_count": 13,
     "metadata": {},
     "output_type": "execute_result"
    }
   ],
   "source": [
    "# Initialize clients for DynamoDB and OpenSearch\n",
    "dynamodb = boto3.resource('dynamodb')\n",
    "\n",
    "\n",
    "# DynamoDB table\n",
    "table = dynamodb.Table('doctorsInfo')\n",
    "\n",
    "# Scan DynamoDB table (consider pagination for large tables)\n",
    "response = table.scan()\n",
    "items = response['Items']\n",
    "\n",
    "# Process records and create mapping\n",
    "focus_mapping = {}\n",
    "for item in items:\n",
    "    doctor_id = item['doctorId']\n",
    "    focus_areas = [_f.lower() for _f in item['focus']]\n",
    "    for focus in focus_areas:\n",
    "        if focus not in focus_mapping:\n",
    "            focus_mapping[focus] = []\n",
    "\n",
    "        focus_mapping[focus].append(doctor_id)\n",
    "\n",
    "# Prepare data for OpenSearch indexing\n",
    "actions = [\n",
    "    {\n",
    "        \"_index\": \"doctor-focus-areas\",\n",
    "        \"_id\": focus,\n",
    "        \"_source\": {\n",
    "            \"focus_area\": focus,\n",
    "            \"doctor_ids\": list(set(focus_mapping[focus]))\n",
    "        }\n",
    "    }\n",
    "    for focus in focus_mapping\n",
    "]\n",
    "\n",
    "# Bulk index data into OpenSearch\n",
    "helpers.bulk(opensearch, actions)\n"
   ]
  },
  {
   "cell_type": "code",
   "execution_count": 15,
   "metadata": {},
   "outputs": [
    {
     "name": "stdout",
     "output_type": "stream",
     "text": [
      "Search Response: {'took': 1873, 'timed_out': False, '_shards': {'total': 5, 'successful': 5, 'skipped': 0, 'failed': 0}, 'hits': {'total': {'value': 2, 'relation': 'eq'}, 'max_score': 4.188632, 'hits': [{'_index': 'doctor-focus-areas', '_id': 'moles', '_score': 4.188632, '_source': {'focus_area': 'moles', 'doctor_ids': ['sin_0000072500105319868991', 'sin_0000072500029420988831', 'sin_0000072500001497120562', 'sin_0000072500029420986821', 'sin_0000072500064423620231', 'sin_0000072500089092733181', 'sin_0000072500066008379221', 'sin_0000072500001497166942', 'sin_0000072500104670182191', 'sin_0000072500095611143331']}}, {'_index': 'doctor-focus-areas', '_id': 'nevi (moles)', '_score': 3.4732242, '_source': {'focus_area': 'nevi (moles)', 'doctor_ids': ['sin_0000072500105319868991', 'sin_0000072500001497211182', 'sin_0000072500001497120562', 'sin_0000072500064423620231', 'sin_0000072500001497166942', 'sin_0000072500104670182191', 'sin_0000072500095611143331']}}]}}\n",
      "Doctor IDs: ['sin_0000072500105319868991', 'sin_0000072500029420988831', 'sin_0000072500001497211182', 'sin_0000072500001497120562', 'sin_0000072500029420986821', 'sin_0000072500064423620231', 'sin_0000072500089092733181', 'sin_0000072500066008379221', 'sin_0000072500001497166942', 'sin_0000072500104670182191', 'sin_0000072500095611143331']\n"
     ]
    }
   ],
   "source": [
    "# Define the index name\n",
    "index_name = \"doctor-focus-areas\"\n",
    "\n",
    "# Define the search query\n",
    "search_query = {\n",
    "    \"query\": {\n",
    "        \"match\": {\n",
    "            \"focus_area\": \"moles\"\n",
    "        }\n",
    "    }\n",
    "}\n",
    "\n",
    "# Perform the search\n",
    "try:\n",
    "    search_response = opensearch.search(index=index_name, body=search_query)\n",
    "    print(\"Search Response:\", search_response)\n",
    "\n",
    "    # Extracting doctor IDs from the search response\n",
    "    doctor_ids = []\n",
    "    for hit in search_response['hits']['hits']:\n",
    "        doctor_ids.extend(hit['_source']['doctor_ids'])\n",
    "\n",
    "    # Removing potential duplicates\n",
    "    doctor_ids = list(set(doctor_ids))\n",
    "\n",
    "    print(\"Doctor IDs:\", doctor_ids)\n",
    "\n",
    "except Exception as e:\n",
    "    print(\"Error performing search:\", e)\n"
   ]
  },
  {
   "cell_type": "code",
   "execution_count": 16,
   "metadata": {},
   "outputs": [
    {
     "name": "stdout",
     "output_type": "stream",
     "text": [
      "All documents deleted: {'took': 5232, 'timed_out': False, 'total': 213, 'deleted': 213, 'batches': 1, 'version_conflicts': 0, 'noops': 0, 'retries': {'bulk': 0, 'search': 0}, 'throttled_millis': 0, 'requests_per_second': -1.0, 'throttled_until_millis': 0, 'failures': []}\n"
     ]
    }
   ],
   "source": [
    "try:\n",
    "    response = opensearch.delete_by_query(\n",
    "        index=index_name,\n",
    "        body={\n",
    "            \"query\": {\n",
    "                \"match_all\": {}  # Matches all documents\n",
    "            }\n",
    "        }\n",
    "    )\n",
    "    print(\"All documents deleted:\", response)\n",
    "except Exception as e:\n",
    "    print(\"Error deleting documents:\", e)"
   ]
  },
  {
   "cell_type": "code",
   "execution_count": null,
   "metadata": {},
   "outputs": [],
   "source": []
  }
 ],
 "metadata": {
  "kernelspec": {
   "display_name": "lambda_env_3_9",
   "language": "python",
   "name": "python3"
  },
  "language_info": {
   "codemirror_mode": {
    "name": "ipython",
    "version": 3
   },
   "file_extension": ".py",
   "mimetype": "text/x-python",
   "name": "python",
   "nbconvert_exporter": "python",
   "pygments_lexer": "ipython3",
   "version": "3.9.18"
  }
 },
 "nbformat": 4,
 "nbformat_minor": 2
}
